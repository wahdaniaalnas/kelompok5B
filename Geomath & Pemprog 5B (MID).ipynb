{
 "cells": [
  {
   "cell_type": "markdown",
   "id": "a19159c2",
   "metadata": {},
   "source": [
    "# Kelompok 5\n",
    "Kelas B\n",
    "\n",
    "\n",
    "Anggota :\n",
    "- Abednego Rungngun P (H061241063)\n",
    "- Adhalya Amaly Azis (H061241067)\n",
    "- Alwansyah (H061241090)\n",
    "- Sitti Aisyah (H061241073)\n",
    "- Wahdania (H061241070)"
   ]
  },
  {
   "cell_type": "markdown",
   "id": "14459f7b",
   "metadata": {},
   "source": [
    "# Chapter 1 : Teorema dan Urutan Binomial"
   ]
  },
  {
   "cell_type": "markdown",
   "id": "88edd94c",
   "metadata": {},
   "source": [
    "Teorema binomial adalah dasar untuk analisis matematika probabilitas seperti yang biasa digunakan dalam geostatistik dan pemodelan data. Jumlah deret sangat penting untuk analisis numerik dan teknik perkiraan. Teorema Binomial adalah cara cepat tanpa mengalikan berulang-ulang untuk mengekspansi bentuk \n",
    "\n",
    "$$ (a+b)^n \n",
    "\\tag {1.1}\n",
    "$$\n",
    "Daripada mengalikan (a+b)(a+b)(a+b)... sebanyak n kali, dapat digunakan rumus khusus untuk langsung menemukan setiap suku dalam ekspansi.\n"
   ]
  },
  {
   "cell_type": "markdown",
   "id": "fb7ea1da",
   "metadata": {},
   "source": [
    "##### **Contoh Ekspansi Manual (untuk memahami pola)**\n",
    "\n",
    "Ekspansi $ (a + b)^2: $\n",
    "$$ (a + b)(a + b) = a^2 + 2ab + b^2\n",
    "\\tag{1.2} $$\n",
    "\n",
    "Ekspansi $ (a + b)^3: $\n",
    "$$ (a + b)^3 = a^3 + 3a^2b + 3ab^2 + b^3 \n",
    "\\tag{1.3} $$\n",
    "Pada ini *selalu muncul* dalam bentuk:\n",
    "- Pangkat a mengecil dari n ke 0\n",
    "- Pangkat b naik dari 0 ke n\n",
    "- Koefisien di depan tiap suku mengikuti *Segitiga Pascal*\n",
    "\n",
    "---\n",
    "\n",
    "##### **Rumus Umum Teorema Binomial**\n",
    "```math\n",
    "(a + b)^n = \\sum_{r = 0}^{n} \\binom{n}{r} a^{n - r} b^r\n",
    "\\tag{1.4}\n",
    "```\n",
    "Penjelasan:\n",
    "- n adalah pangkat keseluruhan\n",
    "- r adalah indeks suku (dimulai dari 0)\n",
    "- $ \\binom{n}{r} $ adalah koefisien binomial, dibaca “n choose r”\n",
    "- Setiap suku terdiri dari $ (a^{n - r}b^r) $\n",
    "\n",
    "Koefisien binomial menunjukkan *berapa banyak cara memilih r dari n*. Rumusnya:\n",
    "\n",
    "$$ \\binom{n}{r} = \\frac{n!}{r!(n - r)!} \\tag{1.5} $$\n",
    "Contoh:\n",
    "$$ \\binom{5}{2} = \\frac{5!}{2!(5 - 2)!} = \\frac{120}{2 \\times 6} = 10 \\tag{1.6} $$\n",
    "\n",
    "*Contoh Lengkap Ekspansi**\n",
    "\n",
    "Ekspansi dari \n",
    "```math\n",
    "(a + b)^5:\n",
    "```\n",
    "```math\n",
    "= a^5 + 5a^4b + 10a^3b^2 + 10a^2b^3 + 5ab^4 + b^5\n",
    "```\n",
    "Koefisien: 1, 5, 10, 10, 5, 1 yang diambil dari Segitiga Pascal baris ke-5\n",
    "\n",
    "*Segitiga Pascal membantu menemukan koefisien dalam ekspansi binomial:*\n",
    "\n",
    "```\n",
    "         1\n",
    "        1 1\n",
    "       1 2 1\n",
    "      1 3 3 1\n",
    "     1 4 6 4 1\n",
    "    1 5 10 10 5 1  ← untuk (a + b)^5\n",
    "```\n",
    "\n",
    "Setiap angka di segitiga adalah hasil penjumlahan dari dua angka di atasnya.\n",
    "\n",
    "\n"
   ]
  },
  {
   "cell_type": "code",
   "execution_count": 19,
   "id": "37371d6a",
   "metadata": {},
   "outputs": [],
   "source": [
    "from sympy import symbols, expand\n",
    "x = symbols('x')"
   ]
  },
  {
   "cell_type": "markdown",
   "id": "393954b2",
   "metadata": {},
   "source": [
    "Hitung ekspansi\n",
    "```math \n",
    "(x + 2)^3"
   ]
  },
  {
   "cell_type": "code",
   "execution_count": 20,
   "id": "62cf6f2d",
   "metadata": {},
   "outputs": [
    {
     "name": "stdout",
     "output_type": "stream",
     "text": [
      "x**3 + 6*x**2 + 12*x + 8\n"
     ]
    }
   ],
   "source": [
    "expr = (x + 2)**3\n",
    "expanded_expr = expand(expr)\n",
    "print(expanded_expr)"
   ]
  },
  {
   "cell_type": "markdown",
   "id": "8ded40c6",
   "metadata": {},
   "source": [
    "### Barisan (Sequences)\n",
    "\n",
    "Barisan adalah susunan angka yang mengikuti suatu *aturan atau pola tertentu*.\n",
    "\n",
    "Barisan ditulis seperti ini:\n",
    "```math\n",
    "a_1, a_2, a_3, \\dots, a_n, \\dots \\tag {1.7}\n",
    "```\n",
    "- an = suku ke-n\n",
    "- Barisan bisa berhingga (terbatas jumlah sukunya) atau tak hingga (berlanjut terus)\n",
    "- Bisa dituliskan dengan rumus eksplisit atau rumus rekursif\n",
    "---\n",
    " Barisan Eksplisit (Explicit Formula)\n",
    "Barisan yang dapat ditentukan langsung dengan rumus umum:\n",
    "```math\n",
    "a_n = f(n) \\tag{1.8}\n",
    "```\n",
    "Contoh:\n",
    "```math\n",
    "a_n = n^2 + 1 \\Rightarrow a1 = 2, a2 = 5, a3 = 10, a4 = 17, \\ldots\n",
    "```\n",
    " Barisan Rekursif (Recursive Formula)\n",
    "Setiap suku ditentukan dari suku sebelumnya.\n",
    "Contoh:\n",
    "```math\n",
    "a_1 = -1,\\quad a_{n+1} = a_n + 2\n",
    "```\n",
    "```math\n",
    "\\Rightarrow -1, 1, 3, 5, 7,\\dots\n",
    "```\n",
    "---\n",
    "\n",
    "Terdapat beberapa jenis barisan, yang pertama \"\n",
    "1. Barisan Aritmetika (Arithmetic Sequence) yang memiliki selisih tetap (d) antara satu suku ke suku berikutnya.\n",
    "Rumus:\n",
    "```math\n",
    "a_n = a + (n - 1)d \\tag{1.9}\n",
    "```\n",
    "- a = suku pertama\n",
    "- d = beda tetap\n",
    "\n",
    " Contoh:\n",
    "```math\n",
    "a = 2,\\ d = 3 \\Rightarrow 2,\\ 5,\\ 8,\\ 11,\\ 14, \\ldots\n",
    "```\n",
    "---\n",
    "2. Barisan Geometri (Geometric Sequence) yaitu barisan dengan rasio tetap (r) antar suku.\n",
    "Rumus:\n",
    "```math\n",
    "a_n = ar^{n - 1} \\tag {1.10}\n",
    "```\n",
    "- a = suku pertama\n",
    "- r = rasio (perkalian tetap)\n",
    "Contoh:\n",
    "```math\n",
    "a = 2,\\ r = \\frac{1}{2} \\Rightarrow 2,\\ 1,\\ \\frac{1}{2},\\ \\frac{1}{4},\\ \\frac{1}{8}, \\ldots\n",
    "```\n",
    "Rasio juga bisa negatif, sehingga sukunya akan berubah tanda:\n",
    "Contoh:\n",
    "```math\n",
    "a = 1,\\ r = -\\frac{2}{3} \\Rightarrow 1,\\ -\\frac{2}{3},\\ \\frac{4}{9},\\ -\\frac{8}{27}, \\ldots\n",
    "```\n",
    "---\n",
    "3.Barisan Fibonacci yaitu barisan spesial yang suku selanjutnya adalah jumlah dari dua suku sebelumnya.\n",
    " Rumus:\n",
    "```math\n",
    "a_0 = 0,\\ a_1 = 1,\\ a_{n+1} = a_n + a_{n-1} \\tag {1.11}\n",
    "```\n",
    "Contoh:\n",
    "```math\n",
    "0,\\ 1,\\ 1,\\ 2,\\ 3,\\ 5,\\ 8,\\ 13,\\ 21, \\ldots\n",
    "```\n",
    "Meskipun Fibonacci didefinisikan secara rekursif, ada rumus eksplisitnya:\n",
    "```math\n",
    "a_n = \\frac{1}{\\sqrt{5}} \\left[ \\left(\\frac{1 + \\sqrt{5}}{2}\\right)^n - \\left(\\frac{1 - \\sqrt{5}}{2}\\right)^n \\right] \\tag {1.12}\n",
    "```\n",
    "---\n",
    "4. Jumlah Deret (Sum of a Series) ketika menjumlahkan semua suku dalam sebuah barisan, itu disebut deret (series).\n",
    "\n",
    "Jumlah Deret Aritmetika:\n",
    "```math\n",
    "S = \\frac{n}{2}(a_1 + a_n) \\tag {1.13}\n",
    "```\n",
    "- S: jumlah n suku pertama\n",
    "- a1: suku pertama\n",
    "- an: suku ke-n\n",
    "\n",
    "Jumlah Deret Geometri Hingga:\n",
    "```math\n",
    "S_n = a \\cdot \\frac{1 - r^n}{1 - r}, \\quad r \\ne 1 \\tag {1.14}\n",
    "```\n",
    "\n",
    "Jumlah Deret Geometri Tak Hingga:\n",
    "Jika |r| < 1, maka:\n",
    "```math\n",
    "S = \\frac{a}{1 - r} \\tag {1.15}\n",
    "```\n",
    "Deret geometri tak hingga konvergen (mendekati nilai tetap) jika nilai \\(r\\) mendekati 0.\n"
   ]
  },
  {
   "cell_type": "markdown",
   "id": "9fb0c247",
   "metadata": {},
   "source": [
    "Tentukan suku ke-10 dari barisan aritmatika: 3,6, 9..."
   ]
  },
  {
   "cell_type": "code",
   "execution_count": 21,
   "id": "9b0707de",
   "metadata": {},
   "outputs": [],
   "source": [
    "from sympy import symbols\n",
    "n = symbols('n')\n",
    "a = 3\n",
    "d = 3"
   ]
  },
  {
   "cell_type": "code",
   "execution_count": 22,
   "id": "fb82bef7",
   "metadata": {},
   "outputs": [
    {
     "name": "stdout",
     "output_type": "stream",
     "text": [
      "30\n"
     ]
    }
   ],
   "source": [
    "Un = a + (n - 1) * d\n",
    "U10 = Un.subs(n, 10)\n",
    "print(U10)"
   ]
  },
  {
   "cell_type": "markdown",
   "id": "d5707275",
   "metadata": {},
   "source": [
    "### Eksponensial dan Logaritma\n",
    "\n",
    "*Fungsi Eksponensial* adalah fungsi matematika dengan variabel di bagian pangkat, bukan di bawah pangkat.\n",
    "```math\n",
    "f(x) = b^x \\tag{1.16}\n",
    "```\n",
    "- b adalah basis (bilangan positif tetap)\n",
    "- x adalah variabel\n",
    "- Fungsi ini naik sangat cepat jika b > 1, dan turun ke nol jika 0 < b < 1\n",
    "\n",
    "Contoh:\n",
    "```math\n",
    "(f(x) = 2^x) → naik cepat: (1, 2, 4, 8, 16, \\dots)\n",
    "```\n",
    "```math\n",
    "(f(x) = (1/2)^x) → turun cepat: (1, 0.5, 0.25, 0.125, \\dots)\n",
    "```\n",
    "---\n",
    "*Fungsi Logaritma: Invers dari Eksponensial*\n",
    "Jika:\n",
    "\n",
    "$$ y = b^x\n",
    "\\tag{1.17} $$\n",
    "\n",
    "Maka bentuk baliknya:\n",
    "$$ x = \\log_b y \n",
    "\\tag{1.18} $$\n",
    "\n",
    "Artinya:\n",
    "- Logaritma adalah “kebalikan” dari eksponensial\n",
    "- Logaritma menjawab pertanyaan:  \n",
    "  \"Berapa pangkat dari b yang menghasilkan y?\"\n",
    "\n",
    "Contoh:\n",
    "\n",
    "$ (2^3 = 8) $ artinya $ (\\log_2 8 = 3) $\n",
    "\n",
    "\n",
    "$ (10^2 = 100) $ artinya $ (\\log_{10} 100 = 2) $\n",
    "\n",
    "\n",
    "---\n",
    "*Sifat-Sifat Logaritma*\n",
    "\n",
    "1. *Perkalian jadi penjumlahan:*\n",
    "```math\n",
    "   \\log_b(uv) = \\log_b u + \\log_b v \\tag {1.19}\n",
    " ```\n",
    "2. *Pembagian jadi pengurangan:*\n",
    "```math\n",
    "   \\log_b(u / v) = \\log_b u - \\log_b v \\tag {1.20}\n",
    "```\n",
    "3. *Pangkat pindah ke depan:*\n",
    "```math\n",
    "   \\log_b(u^x) = x \\log_b u \\tag {1.21}\n",
    " ```\n",
    "4. *Akar sebagai pangkat:*\n",
    "```math\n",
    "   \\log_b(\\sqrt[n]{u}) = \\frac{1}{n} \\log_b u \\tag {1.22}\n",
    "```\n",
    "---\n",
    "*Dua Jenis Logaritma Khusus*\n",
    "\n",
    "1. *Logaritma umum (common logarithm):*\n",
    "```math\n",
    "   log_{10} x \\quad \\text{(sering ditulis cukup:  log x\\text)}\n",
    "```\n",
    "2. *Logaritma natural (natural logarithm):*\n",
    "```math\n",
    "   log_e x \\quad \\text{(ditulis: ln x\\text)}\n",
    "```\n",
    "   dengan\n",
    "   ```math\n",
    "    e=718...\\quad \\text{konstanta matematika seperti} \\pi"
   ]
  },
  {
   "cell_type": "markdown",
   "id": "49822820",
   "metadata": {},
   "source": [
    "### Aplikasi Eksponensial dan Logaritma\n",
    "\n",
    "Kenaikan Karbon Dioksida dan Perubahan Suhu (Carbon Dioxide)\n",
    "Model perubahan suhu akibat peningkatan CO₂:\n",
    "$ \\Delta T = \\gamma \\ln \\left(\\frac{A(t)}{A_0} \\right) $\n",
    "\n",
    "$ \\Delta T:\\quad \\text{suhu global (K)} $\n",
    "\n",
    "$ A(t):\\quad \\text{ konsentrasi CO₂ saat waktu t} $\n",
    "\n",
    "$ A_0:\\quad \\text{ konsentrasi CO₂ pada waktu awal} $\n",
    "\n",
    "$ \\gamma:\\quad \\text{sensitivitas iklim, biasanya sekitar 3.6 K} $\n",
    "\n",
    "Contoh :\n",
    "Jika konsentrasi CO₂ meningkat dua kali lipat, maka:\n",
    "```math\n",
    "\\Delta T = 3.6 \\ln 2 \\approx 2.5\\ K \n",
    "```\n",
    " Artinya, suhu bumi akan naik sekitar 2.5 derajat.\n",
    "\n",
    "---\n",
    "Lipatan Geologi (Folds)\n",
    "Fungsi logaritma dan eksponensial digunakan untuk menghitung panjang gelombang lipatan batuan akibat gaya dari samping. Rumus Biot–Ramberg untuk panjang gelombang :\n",
    "```math\n",
    "\\lambda = 2\\pi h \\sqrt[3]{\\frac{1}{6n^2} \\cdot \\frac{\\eta_1}{\\eta_2}} \\tag {1.23}\n",
    "```\n",
    "- h: ketebalan lapisan batuan\n",
    "-  $ \\eta_1/\\eta_2:\\quad $ {rasio viskositas antar lapisan (misal: batu kapur dan serpih)}\n",
    "- n : jumlah lapisan\n",
    "---\n",
    "Interpretasi:\n",
    "- Rasio viskositas besar ⇒ panjang gelombang lebih panjang\n",
    "- Ketebalan besar ⇒ lipatan lebih panjang\n",
    "- Lebih banyak lapisan ⇒ lipatan lebih pendek\n",
    "\n",
    "Contoh:\n",
    "Jika:\n",
    "- $ \\eta_1/\\eta_2 $ = 19\n",
    "- h = 5 mm  \n",
    "maka:\n",
    "\n",
    "$$ \\lambda = 9.23h = 9.23 \\times 5 = 46 \\text{ mm} $$\n",
    "\n",
    "\n",
    "---\n",
    "Hukum Gutenberg–Richter(Gutenberg–Richter Law) yang dimana hukum ini menyatakan bahwa jumlah gempa bumi besar menurun secara eksponensial.\n",
    "Rumus\n",
    "```math\n",
    "\\log_{10} N = a - bM \\tag{1.24}\n",
    "```\n",
    "\n",
    "- N: jumlah gempa dengan magnitudo ≥ M\n",
    "- a, b : konstanta tergantung wilayah\n",
    "\n",
    "Artinya\n",
    "- Setiap kenaikan 1 magnitudo, jumlah gempa berkurang 10 kali\n",
    "- Ini menjelaskan kenapa gempa besar jarang terjadi dibanding gempa kecil\n",
    "---\n",
    "Distribusi Benda Dekat Bumi (Near-Earth Objects) asteroid dan komet dekat bumi mengikuti hukum log-normal, yaitu grafik yang berbentuk lonceng saat ditampilkan dengan skala logaritma.\n",
    "\n",
    "Hal ini membantu ilmuwan:\n",
    "- Memprediksi jumlah asteroid\n",
    "- Menentukan ukuran yang paling umum\n",
    "\n"
   ]
  },
  {
   "cell_type": "code",
   "execution_count": 23,
   "id": "311e38d1",
   "metadata": {},
   "outputs": [],
   "source": [
    "from math import comb\n",
    "from sympy import symbols, expand"
   ]
  },
  {
   "cell_type": "markdown",
   "id": "c1073e8c",
   "metadata": {},
   "source": [
    "Contoh soal 1:\n",
    "Use Pascal’s triangle to expand \n",
    "```math\n",
    "(x-y)^7"
   ]
  },
  {
   "cell_type": "code",
   "execution_count": 24,
   "id": "2547aa77",
   "metadata": {},
   "outputs": [],
   "source": [
    "x,y = symbols('x y')"
   ]
  },
  {
   "cell_type": "code",
   "execution_count": 25,
   "id": "ddc0820a",
   "metadata": {},
   "outputs": [
    {
     "name": "stdout",
     "output_type": "stream",
     "text": [
      "Ekspansi (x - y)^7:\n",
      "x**7 - 7*x**6*y + 21*x**5*y**2 - 35*x**4*y**3 + 35*x**3*y**4 - 21*x**2*y**5 + 7*x*y**6 - y**7\n"
     ]
    }
   ],
   "source": [
    "expansion1 = sum([comb(7, k) * x**(7 - k) * (-y)**k for k in range(8)])\n",
    "print(\"Ekspansi (x - y)^7:\")\n",
    "print(expand(expansion1))"
   ]
  },
  {
   "cell_type": "markdown",
   "id": "c99127ae",
   "metadata": {},
   "source": [
    "Contoh soal 2: Expand \n",
    "```math\n",
    "(2a +3b)^5\n",
    "```\n",
    "using Pascal’s triangle."
   ]
  },
  {
   "cell_type": "code",
   "execution_count": 26,
   "id": "e260aa16",
   "metadata": {},
   "outputs": [],
   "source": [
    "a, b = symbols('a b')"
   ]
  },
  {
   "cell_type": "code",
   "execution_count": 27,
   "id": "277a4d95",
   "metadata": {},
   "outputs": [
    {
     "name": "stdout",
     "output_type": "stream",
     "text": [
      "\n",
      "Ekspansi (2a + 3b)^5:\n",
      "32*a**5 + 240*a**4*b + 720*a**3*b**2 + 1080*a**2*b**3 + 810*a*b**4 + 243*b**5\n"
     ]
    }
   ],
   "source": [
    "expansion2 = sum([comb(5, k) * (2*a)**(5 - k) * (3*b)**k for k in range(6)])\n",
    "print(\"\\nEkspansi (2a + 3b)^5:\")\n",
    "print(expand(expansion2))"
   ]
  },
  {
   "cell_type": "markdown",
   "id": "fcae59c7",
   "metadata": {},
   "source": [
    "# Chapter 2 : TRIGONOMETRY\n",
    "---\n",
    "### Pengertian Trigonometri\n",
    "Trigonometri adalah cabang matematika yang mempelajari hubungan antara sudut dan sisi-sisi segitiga, terutama segitiga siku-siku. Trigonometri juga mencakup konsep-konsep fungsi trigonometri yang sangat berguna dalam berbagai aplikasi ilmu pengetahuan dan teknik, seperti fisika, rekayasa, astronomi, dan geometri.\n",
    "\n",
    "## II.1 Plane Trigonometry (Trigonometri Bidang)\n",
    "### II.1.1 Trigonometrical Functions (Fungsi Trigonometri) \n",
    "Fungsi trigonometri adalah fungsi yang digunakan untuk menggambarkan hubungan antara sisi-sisi dan sudut-sudut dalam segitiga siku-siku. Fungsi trigonometri dasar adalah:\n",
    "\n",
    "sin (𝜃) = rasio antara sisi depan (opposite) dan sisi miring (hypotenuse).\n",
    "- **Sinus:**\n",
    "$$\n",
    "\\sin(\\theta) = \\frac{\\text{sisi depan}}{\\text{sisi miring}}\n",
    "\\tag{2.1}\n",
    "$$\n",
    "\n",
    "cos(θ) = rasio antara sisi samping (adjacent) dan sisi miring (hypotenuse).\n",
    "- **Cosinus:**\n",
    "$$\n",
    "\\cos(\\theta) = \\frac{\\text{sisi samping}}{\\text{sisi miring}}  \n",
    "\\tag{2.2}\n",
    "$$ \n",
    "\n",
    "tan(θ) = rasio antara sisi depan (opposite) dan sisi samping (adjacent).\n",
    "- **Tangen:**\n",
    "$$\n",
    "\\tan(\\theta) = \\frac{\\text{sin}(\\theta)}{\\text{cos}(\\theta)} = \\frac{\\text{sisi depan}}{\\text{sisi samping}} \n",
    "\\tag{2.3} \n",
    "$$\n",
    "### II.1.2 Sine Rule (Aturan Sinus)\n",
    "Sine Rule penting dalam trigonometri karena aturan ini memberikan hubungan antara ketiga sisi dan sudut-sudutnya yang bersesuaian.\n",
    "$$\n",
    "\\frac{a}{\\sin A} = \\frac{b}{\\sin B} = \\frac{c}{\\sin C}\n",
    "\\tag{2.4}\n",
    "$$\n",
    "\n"
   ]
  },
  {
   "attachments": {
    "Gambar WhatsApp 2025-05-28 pukul 07.02.41_79c29d87.jpg": {
     "image/jpeg": "[encoded data removed]"
    }
   },
   "cell_type": "markdown",
   "id": "b0820c20",
   "metadata": {},
   "source": [
    "![Gambar WhatsApp 2025-05-28 pukul 07.02.41_79c29d87.jpg](<attachment:Gambar WhatsApp 2025-05-28 pukul 07.02.41_79c29d87.jpg>)"
   ]
  },
  {
   "cell_type": "markdown",
   "id": "9fc2d9dd",
   "metadata": {},
   "source": [
    "### II.1.3 Cosine Rule (Aturan Cosinus)\n",
    "Cosine Rule digunakan untuk menghitung sisi atau sudut dalam segitiga sembarang, terutama saat:\n",
    "- Diketahui dua sisi dan satu sudut apit (SAS)\n",
    "- Diketahui ketiga sisi (SSS) dan ingin mencari sudut  \n",
    "\n",
    "Rumus Cosine Rule:\n",
    "$$\n",
    "c^2 = a^2 + b^2 - 2ab \\cos C   \n",
    "\\tag{2.5}\n",
    "$$\n",
    "\n",
    "## II.2 Spherical Trigonometry (Trigonometri Bola)\n",
    "Spherical Trigonometry adalah cabang trigonometri yang mempelajari hubungan antara sudut dan sisi pada segitiga di permukaan bola. Spherical Trigonometry lebih umum digunakan dalam ilmu bumi dan astronomi.  \n",
    "Rumus-Rumus Penting dalam Trigonometri Bola: \n",
    "### II.2.1 Aturan Sinus Bola (Spherical Sine Rule)\n",
    "$$\n",
    "\\frac{\\sin a}{\\sin A} = \\frac{\\sin b}{\\sin B} = \\frac{\\sin c}{\\sin C}\n",
    "\\tag{2.6}\n",
    "$$\n",
    "### II.2.2 Aturan Cosinus untuk Sisi (Cosine Rule for Sides)\n",
    "$$\n",
    "\\cos c = \\cos a .\\cos b + \\sin a. \\sin b. \\cos C\n",
    "\\tag{2.7}\n",
    "$$\n",
    "### II.2.3 Aturan Cosinus untuk Sudut (Cosine Rule for Angles)\n",
    "$$\n",
    "\\cos C = -\\cos A. \\cos B + \\sin A. \\sin B. \\cos c\n",
    "\\tag{2.8}\n",
    "$$\n",
    "\n",
    "## II.3 Applications\n",
    "### II.3.1 Travel-Time Curves of Seismic Waves (Kurva Waktu Tempuh Gelombang Seismik)\n",
    "Travel-time curves adalah grafik yang menunjukkan hubungan antara waktu tempuh (travel time) dan jarak (distance) yang ditempuh oleh gelombang seismik dari sumber gempa ke stasiun pencatat.\n",
    "### II.3.2 Great-Circle Distance (Jarak Lingkaran Besar)\n",
    "Great-circle distance adalah jarak terpendek antara dua titik di permukaan bola (seperti Bumi), yang diukur sepanjang permukaan bola, bukan melalui bagian dalamnya.\n",
    "### II.3.3 Bubbles and Surface Tension (Gelembung dan Tegangan Permukaan)\n",
    "Tegangan permukaan adalah sifat fisik cairan yang membuat permukaannya bertindak seperti selaput elastis yang tegang.  \n",
    "Gelembung (bubbles) terbentuk karena adanya tegangan permukaan ini, yang berusaha meminimalkan energi permukaan."
   ]
  },
  {
   "cell_type": "markdown",
   "id": "2597cbfa",
   "metadata": {},
   "source": [
    " ### Contoh Soal:\n",
    "exercise 51 no.3  \n",
    "Seorang pria bersepeda sejauh 24 km ke arah selatan dan kemudian 20 km ke arah timur. Pria lain, memulai pada waktu yang sama dengan pria pertama, bersepeda sejauh 32 km ke arah timur dan kemudian 7 km ke arah selatan. Carilah jarak antara kedua pria tersebut."
   ]
  },
  {
   "cell_type": "code",
   "execution_count": 28,
   "id": "3f38d461",
   "metadata": {},
   "outputs": [
    {
     "name": "stdout",
     "output_type": "stream",
     "text": [
      "Jarak antara kedua pria adalah 20.81 km\n"
     ]
    }
   ],
   "source": [
    "import math\n",
    "\n",
    "x1, y1 = 20, -24\n",
    "\n",
    "x2, y2 = 32, -7\n",
    "\n",
    "distance = math.sqrt((x2 - x1)**2 + (y2 - y1)**2)\n",
    "\n",
    "print(f\"Jarak antara kedua pria adalah {distance:.2f} km\")\n"
   ]
  },
  {
   "cell_type": "markdown",
   "id": "3fd8939b",
   "metadata": {},
   "source": [
    "# Chapter 3 : Bilangan Kompleks"
   ]
  },
  {
   "cell_type": "markdown",
   "id": "78ece3fc",
   "metadata": {},
   "source": [
    "### PENGERTIAN\n",
    "\n",
    "- Bilangan Kompleks   \n",
    "Bilangan kompleks adalah jenis bilangan yang merupakan gabungan antara bilangan real dan bilangan imajiner. Secara umum, bilangan kompleks ditulis dalam bentuk $ a + bi $, di mana $ a $ adalah bagian real dan $b$ adalah bagian imajiner, sedangkan $i$ adalah satuan imajiner yang didefinisikan sebagai akar dari $-1 (i^2 = -1) $. Bilangan ini diperkenalkan untuk menyelesaikan persoalan matematika yang tidak bisa diselesaikan hanya dengan bilangan real, seperti akar dari bilangan negatif. Selain digunakan dalam matematika, bilangan kompleks juga banyak diterapkan dalam bidang teknik, fisika, dan ilmu komputer, khususnya dalam analisis sinyal, listrik, dan gelombang.\n",
    "- Bilangan Real  \n",
    "Bilangan real adalah semua bilangan yang bisa ditemukan pada garis bilangan, termasuk:\n",
    "1. Bilangan bulat (misalnya: -3, 0, 7)\n",
    "2. Pecahan (misalnya: 1/2, -5/4)\n",
    "3. Desimal (misalnya: 3.14, -0.75)\n",
    "4. Bilangan irasional (misalnya: $\\sqrt{2}$, $\\pi$)\n",
    "\n",
    "Dalam bilangan kompleks, bilangan real adalah bagian yang *tidak mengandung* $i$.  \n",
    "Contoh: Dalam $5 + 2i$, bilangan realnya adalah *5*.\n",
    "\n",
    "- Bilangan Imajiner  \n",
    "Bilangan imajiner adalah bilangan yang merupakan kelipatan dari $i$, yaitu satuan imajiner yang didefinisikan sebagai:\n",
    "\n",
    "$$\n",
    "i = \\sqrt{-1}\n",
    "$$\n",
    "Bilangan ini tidak bisa ditemukan pada garis bilangan real karena nilainya melibatkan akar dari bilangan negatif.\n",
    "\n",
    "Dalam bilangan kompleks, bagian imajiner ditulis sebagai $bi$, di mana $b$ adalah bilangan real.  \n",
    "Contoh: Dalam $5 + 2i$, bagian imajinernya adalah *$2i$*."
   ]
  },
  {
   "cell_type": "markdown",
   "id": "91cc7125",
   "metadata": {},
   "source": [
    "### BENTUK-BENTUK BILANGAN KOMPLEKS\n",
    "\n",
    "Bilangan kompleks bisa dituliskan dalam beberapa bentuk tergantung pada konteks penggunaannya. Berikut adalah bentuk-bentuk utama bilangan kompleks:\n",
    "\n",
    "1. Bentuk Aljabar (Kartesius)\n",
    "\n",
    "Bentuk ini adalah yang paling umum digunakan, ditulis sebagai:\n",
    "\n",
    "$$\n",
    "z = a + bi\n",
    "$$\n",
    "\n",
    "di mana:\n",
    "- $a$ = bagian real\n",
    "- $b$ = bagian imajiner\n",
    "- $i = \\sqrt{-1}$\n",
    "\n",
    "*Contoh:*  \n",
    "$z = 3 + 4i$\n",
    "\n",
    "2. Bentuk Polar (Trigonometri)\n",
    "\n",
    "Dalam bentuk ini, bilangan kompleks ditulis berdasarkan jarak dari titik asal (modulus) dan sudut terhadap sumbu real (argumen):\n",
    "\n",
    "$$\n",
    "z = r(\\cos \\theta + i \\sin \\theta)\n",
    "$$\n",
    "\n",
    "di mana:\n",
    "- $r = |z|$ = modulus (panjang vektor dari titik asal ke titik $z$)\n",
    "- $\\theta$ = argumen (sudut dari sumbu real ke vektor)\n",
    "\n",
    "*Contoh:*  \n",
    "Jika $z = 1 + i$, maka $r = \\sqrt{2}$ dan $\\theta = \\frac{\\pi}{4}$,  \n",
    "jadi:\n",
    "$$\n",
    "z = \\sqrt{2} \\left( \\cos\\frac{\\pi}{4} + i \\sin\\frac{\\pi}{4} \\right)\n",
    "$$\n",
    "\n",
    "3. Bentuk Eksponensial (Euler)\n",
    "\n",
    "Bentuk ini menggunakan rumus Euler dan sangat berguna dalam kalkulus dan teknik:\n",
    "\n",
    "$$\n",
    "z = re^{i\\theta}\n",
    "$$\n",
    "\n",
    "di mana:\n",
    "- $r$ = modulus\n",
    "- $\\theta$ = argumen\n",
    "\n",
    "*Contoh:*  \n",
    "$z = \\sqrt{2}e^{i\\pi/4}$\n",
    "\n",
    "4. Bentuk Konjugat\n",
    "\n",
    "Konjugat dari bilangan kompleks $z = a + bi$ adalah:\n",
    "\n",
    "$$\n",
    "\\bar{z} = a - bi\n",
    "$$\n",
    "\n",
    "Konjugat sering digunakan dalam pembagian bilangan kompleks atau menyederhanakan bentuk pecahan kompleks.\n",
    "\n",
    "*Contoh:*  \n",
    "Jika $z = 2 + 3i$, maka $\\bar{z} = 2 - 3i$\n",
    "### LETAK POSISI SUDUT PADA BILANGAN KOMPLEKS\n",
    "\n",
    "Untuk menentukan posisi sudut (argumen) dari bilangan kompleks dalam kaitannya dengan kuadran pada bidang kompleks, kita dapat menggunakan sudut yang terbentuk oleh garis penghubung titik tersebut dengan titik asal (0,0) pada bidang kompleks. Sudut ini menunjukkan arah atau posisi relatif bilangan kompleks terhadap sumbu real.\n",
    "\n",
    "##### Kuadran I (Positif Real, Positif Imaginer)\n",
    "- Bilangan kompleks $z = a + bi$ dengan $a > 0$ dan $b > 0$ terletak di kuadran pertama.\n",
    "- Sudut berada antara $0^\\circ$ dan $90^\\circ$ (atau antara $0$ radian dan $\\frac{\\pi}{2}$ radian).\n",
    "\n",
    "##### Kuadran II (Negatif Real, Positif Imaginer)\n",
    "- Bilangan kompleks $z = a + bi$ dengan $a < 0$ dan $b > 0$ terletak di kuadran kedua.\n",
    "- Sudut berada antara $90^\\circ$ dan $180^\\circ$ (atau antara $\\frac{\\pi}{2}$ radian dan $\\pi$ radian).\n",
    "\n",
    "##### Kuadran III (Negatif Real, Negatif Imaginer)\n",
    "- Bilangan kompleks $z = a + bi$ dengan $a < 0$ dan $b < 0$ terletak di kuadran ketiga.\n",
    "- Sudut berada antara $180^\\circ$ dan $270^\\circ$ (atau antara $\\pi$ radian dan $\\frac{3\\pi}{2}$ radian).\n",
    "\n",
    "##### Kuadran IV (Positif Real, Negatif Imaginer)\n",
    "- Bilangan kompleks $z = a + bi$ dengan $a > 0$ dan $b < 0$ terletak di kuadran keempat.\n",
    "- Sudut berada antara $270^\\circ$ dan $360^\\circ$ (atau antara $\\frac{3\\pi}{2}$ radian dan $2\\pi$ radian)."
   ]
  },
  {
   "cell_type": "markdown",
   "id": "307d5979",
   "metadata": {},
   "source": [
    "##### Posisi pada Sumbu\n",
    "- *Sumbu Real*: Jika bagian imaginer $b = 0$, maka bilangan kompleks terletak di sepanjang sumbu real.\n",
    "- *Sumbu Imaginer*: Jika bagian real $a = 0$, maka bilangan kompleks terletak di sepanjang sumbu imaginer.\n",
    "### PENJUMLAHAN DAN PENGURANGAN BILANGAN KOMPLEKS\n",
    "\n",
    "#### Penjumlahan \n",
    "Misalkan dua bilangan kompleks:\n",
    "- $ z_1 = a + bi $\n",
    "- $ z_2 = c + di $\n",
    "\n",
    "Penjumlahan kedua bilangan kompleks tersebut adalah:\n",
    "$ \n",
    "z_1 + z_2 = (a + c) + (b + d)i \n",
    "$\n",
    "Dengan kata lain, penjumlahan dilakukan dengan menjumlahkan bagian nyata dan bagian imajiner secara terpisah."
   ]
  },
  {
   "cell_type": "markdown",
   "id": "bd2034a0",
   "metadata": {},
   "source": [
    "### Pengurangan\n",
    "Misalkan dua bilangan kompleks:\n",
    "- $ z_1 = a + bi $\n",
    "- $ z_2 = c + di $\n",
    "\n",
    "Pengurangan kedua bilangan kompleks tersebut adalah:\n",
    "$ \n",
    "z_1 - z_2 = (a - c) + (b - d)i \n",
    "$\n",
    "Dengan kata lain, pengurangan dilakukan dengan mengurangkan bagian nyata dan bagian imajiner secara terpisah.\n",
    "\n",
    "### Contoh:\n",
    "Jika $ z_1 = 3 + 4i $ dan $ z_2 = 1 + 2i $, maka:\n",
    "- Penjumlahan: \n",
    "$ \n",
    "(3 + 4i) + (1 + 2i) = (3 + 1) + (4 + 2)i = 4 + 6i \n",
    "$\n",
    "- Pengurangan: \n",
    "$ \n",
    "(3 + 4i) - (1 + 2i) = (3 - 1) + (4 - 2)i = 2 + 2i \n",
    "$"
   ]
  },
  {
   "cell_type": "markdown",
   "id": "233aed38",
   "metadata": {},
   "source": [
    "### KONJUNGAT DARI BILANGAN KOMPLEKS\n",
    "\n",
    "*Konjugat* dari sebuah bilangan kompleks adalah bilangan kompleks yang memiliki bagian real yang sama, tetapi bagian imaginer dengan tanda yang berlawanan. Jika bilangan kompleks ditulis dalam bentuk:\n",
    "\n",
    "$$\n",
    "z = a + bi\n",
    "$$\n",
    "\n",
    "maka konjugat dari bilangan kompleks $z$, dilambangkan dengan $\\overline{z}$, adalah:\n",
    "\n",
    "$$\n",
    "\\overline{z} = a - bi\n",
    "$$\n"
   ]
  },
  {
   "cell_type": "markdown",
   "id": "afd148ad",
   "metadata": {},
   "source": [
    "##### Sifat-Sifat Konjugat Bilangan Kompleks\n",
    "\n",
    "1. *Penjumlahan dan Pengurangan*:\n",
    "   - Konjugat dari penjumlahan dua bilangan kompleks adalah penjumlahan dari konjugat kedua bilangan tersebut.\n",
    "   $$\n",
    "   \\overline{(z_1 + z_2)} = \\overline{z_1} + \\overline{z_2}\n",
    "   $$\n",
    "   - Konjugat dari pengurangan dua bilangan kompleks adalah pengurangan konjugat kedua bilangan tersebut.\n",
    "   $$\n",
    "   \\overline{(z_1 - z_2)} = \\overline{z_1} - \\overline{z_2}\n",
    "   $$\n",
    "\n",
    "2. *Perkalian*:\n",
    "   - Konjugat dari hasil perkalian dua bilangan kompleks adalah hasil perkalian dari konjugat kedua bilangan tersebut.\n",
    "   $$\n",
    "   \\overline{(z_1 \\cdot z_2)} = \\overline{z_1} \\cdot \\overline{z_2}\n",
    "   $$\n",
    "\n",
    "3. *Pembagian*:\n",
    "   - Konjugat dari hasil pembagian dua bilangan kompleks adalah hasil pembagian konjugat dari bilangan kompleks tersebut.\n",
    "   $$\n",
    "   \\overline{\\left(\\frac{z_1}{z_2}\\right)} = \\frac{\\overline{z_1}}{\\overline{z_2}}\n",
    "   $$\n"
   ]
  },
  {
   "cell_type": "code",
   "execution_count": 29,
   "id": "e5150f28",
   "metadata": {},
   "outputs": [
    {
     "name": "stdout",
     "output_type": "stream",
     "text": [
      "=== SOAL 1: Pengurangan Bilangan Kompleks ===\n",
      "z1 = (5+7j), z2 = (3+2j)\n",
      "z1 - z2 = (2+5j)\n",
      "\n",
      "=== SOAL 2: Pembagian Bilangan Kompleks ===\n",
      "z3 = (6+8j), z4 = (2+2j)\n",
      "z3 / z4 = (3.5+0.5j)\n",
      "\n",
      "=== SOAL 3: Magnitudo dan Konjugat ===\n",
      "z5 = (-3+4j)\n",
      "Konjugat z5 = (-3-4j)\n",
      "Magnitudo |z5| = 5.0\n",
      "\n",
      "=== SOAL 4: Perkalian dan Konjugat ===\n",
      "z1 = (1+2j), z2 = (2-1j)\n",
      "Perkalian z1 * z2 = (4+3j)\n",
      "Konjugat dari hasil = (4-3j)\n",
      "\n",
      "=== SOAL 5: Kombinasi Penjumlahan, Pengurangan, dan Perkalian ===\n",
      "z3 = (3+4j), z4 = (1+1j)\n",
      "(z3 + z4) = (4+5j)\n",
      "(z3 - z4) = (2+3j)\n",
      "(z3 + z4) * (z3 - z4) = (-7+22j)\n"
     ]
    }
   ],
   "source": [
    "# Contoh Soal\n",
    "import math\n",
    "\n",
    "print(\"=== SOAL 1: Pengurangan Bilangan Kompleks ===\")\n",
    "z1 = complex(5, 7)  # 5 + 7i\n",
    "z2 = complex(3, 2)  # 3 + 2i\n",
    "hasil1 = z1 - z2\n",
    "print(f\"z1 = {z1}, z2 = {z2}\")\n",
    "print(f\"z1 - z2 = {hasil1}\")\n",
    "print()\n",
    "\n",
    "print(\"=== SOAL 2: Pembagian Bilangan Kompleks ===\")\n",
    "z3 = complex(6, 8)  # 6 + 8i\n",
    "z4 = complex(2, 2)  # 2 + 2i\n",
    "hasil2 = z3 / z4\n",
    "print(f\"z3 = {z3}, z4 = {z4}\")\n",
    "print(f\"z3 / z4 = {hasil2}\")\n",
    "print()\n",
    "\n",
    "print(\"=== SOAL 3: Magnitudo dan Konjugat ===\")\n",
    "z5 = complex(-3, 4)  # -3 + 4i\n",
    "konjugat = z5.conjugate()\n",
    "magnitudo = math.sqrt(z5.real**2 + z5.imag**2)\n",
    "print(f\"z5 = {z5}\")\n",
    "print(f\"Konjugat z5 = {konjugat}\")\n",
    "print(f\"Magnitudo |z5| = {magnitudo}\")\n",
    "print()\n",
    "\n",
    "print(\"=== SOAL 4: Perkalian dan Konjugat ===\")\n",
    "z1 = complex(1, 2)  # 1 + 2i\n",
    "z2 = complex(2, -1)  # 2 - i\n",
    "hasil4 = z1 * z2\n",
    "konjugat_hasil4 = hasil4.conjugate()\n",
    "\n",
    "print(f\"z1 = {z1}, z2 = {z2}\")\n",
    "print(f\"Perkalian z1 * z2 = {hasil4}\")\n",
    "print(f\"Konjugat dari hasil = {konjugat_hasil4}\")\n",
    "print()\n",
    "\n",
    "print(\"=== SOAL 5: Kombinasi Penjumlahan, Pengurangan, dan Perkalian ===\")\n",
    "z3 = complex(3, 4)  # 3 + 4i\n",
    "z4 = complex(1, 1)  # 1 + i\n",
    "penjumlahan = z3 + z4\n",
    "pengurangan = z3 - z4\n",
    "hasil5 = penjumlahan * pengurangan\n",
    "\n",
    "print(f\"z3 = {z3}, z4 = {z4}\")\n",
    "print(f\"(z3 + z4) = {penjumlahan}\")\n",
    "print(f\"(z3 - z4) = {pengurangan}\")\n",
    "print(f\"(z3 + z4) * (z3 - z4) = {hasil5}\")"
   ]
  },
  {
   "cell_type": "markdown",
   "id": "309f3633",
   "metadata": {},
   "source": [
    "# Chapter 4 :  Differentiation"
   ]
  },
  {
   "cell_type": "markdown",
   "id": "c68a4201",
   "metadata": {},
   "source": [
    "Dari proses diferensiasi menggunakan prinsip pertama (definisi limit) pada berbagai contoh seperti y = axn , ditemukan pola umum yang dikenal sebagai aturan pangkat (power rule). Aturan ini menyatakan bahwa jika y=axn, di mana a dan n adalah konstanta, maka turunan fungsi tersebut terhadap x adalah "
   ]
  },
  {
   "cell_type": "markdown",
   "id": "a7579bd9",
   "metadata": {},
   "source": [
    " $$\\frac {dy}{dx} = anx^{n-1} \\tag {4.1}$$"
   ]
  },
  {
   "cell_type": "markdown",
   "id": "0824480b",
   "metadata": {},
   "source": [
    "Jika y = u(x)v(x), dimana u dan v adalah fungsi yang bergantung pada x, maka turunan y terhadap x adalah \n",
    "\n",
    "$$ \\frac{dy}{dx} = u\\frac{dv}{dx} + v\\frac{du}{dx} \\tag{4.2} $$"
   ]
  },
  {
   "cell_type": "markdown",
   "id": "380968d0",
   "metadata": {},
   "source": [
    "## Diferensiasi Parsial"
   ]
  },
  {
   "cell_type": "markdown",
   "id": "5824322e",
   "metadata": {},
   "source": [
    "Ketika mendiferensiasikan suatu fungsi yang memiliki dua variabel, salah satu variabel dipertahankan konstan, dan koefisien diferensial dari variabel lainnya dicari terhadap variabel tersebut. Koefisien diferensial yang diperoleh disebut sebagai turunan parsial dari fungsi tersebut."
   ]
  },
  {
   "cell_type": "markdown",
   "id": "029ea12a",
   "metadata": {},
   "source": [
    "Turunan parsial terhadap x :\n",
    "$$ \\frac{\\partial f}{\\partial x} = \\lim{h \\to 0} \\frac{f(x + h,y) - f(x,y)}{h} \\tag {4.3}$$"
   ]
  },
  {
   "cell_type": "markdown",
   "id": "042d36da",
   "metadata": {},
   "source": [
    "Oleh karena itu, jika $V = \\pi r^2h, maka \\frac{\\partial V}{\\partial r}$ dengan h tetap konstan "
   ]
  },
  {
   "cell_type": "markdown",
   "id": "1fee1d44",
   "metadata": {},
   "source": [
    "$\\frac{\\partial V}{\\partial h} = (\\pi r^2)\\frac{d}{dh}(h)= (\\pi h)(2r) = (2\\pi hr)$"
   ]
  },
  {
   "cell_type": "markdown",
   "id": "a3d0cbeb",
   "metadata": {},
   "source": [
    "## CONTOH SOAL"
   ]
  },
  {
   "cell_type": "markdown",
   "id": "fcc6e1ae",
   "metadata": {},
   "source": [
    "### 1. $  3 \\sqrt[3]{x^5} $"
   ]
  },
  {
   "cell_type": "code",
   "execution_count": 30,
   "id": "7ba278d2",
   "metadata": {},
   "outputs": [
    {
     "data": {
      "text/latex": [
       "$\\displaystyle 5 x^{\\frac{2}{3}}$"
      ],
      "text/plain": [
       "5*x**(2/3)"
      ]
     },
     "execution_count": 30,
     "metadata": {},
     "output_type": "execute_result"
    }
   ],
   "source": [
    "import sympy\n",
    "from sympy import diff, symbols, Rational\n",
    "\n",
    "x = symbols('x', Real = True, Positive = True )\n",
    "fungsi = 3 * x ** Rational(5,3)\n",
    "\n",
    "turunan = diff(fungsi, x)\n",
    "turunan "
   ]
  },
  {
   "cell_type": "markdown",
   "id": "c6bebe3d",
   "metadata": {},
   "source": [
    "### 2. $ e^{3t} sin 4t $"
   ]
  },
  {
   "cell_type": "code",
   "execution_count": 31,
   "id": "87631008",
   "metadata": {},
   "outputs": [
    {
     "data": {
      "text/latex": [
       "$\\displaystyle 3 e^{3 t} \\sin{\\left(4 t \\right)} + 4 e^{3 t} \\cos{\\left(4 t \\right)}$"
      ],
      "text/plain": [
       "3*exp(3*t)*sin(4*t) + 4*exp(3*t)*cos(4*t)"
      ]
     },
     "execution_count": 31,
     "metadata": {},
     "output_type": "execute_result"
    }
   ],
   "source": [
    "import sympy\n",
    "from sympy import diff, sin, symbols, exp\n",
    "\n",
    "t = symbols('t')\n",
    "fungsi = exp(3*t) *sin(4*t)\n",
    "\n",
    "turunan = diff(fungsi, t)\n",
    "turunan"
   ]
  },
  {
   "cell_type": "markdown",
   "id": "17170a61",
   "metadata": {},
   "source": [
    "###  3. $ V = \\pi r^2 h, Maka \\frac{\\partial V}{\\partial r} $ dengan h konstan"
   ]
  },
  {
   "cell_type": "markdown",
   "id": "b166069b",
   "metadata": {},
   "source": [
    "# Chapter 5 : Integrasi"
   ]
  },
  {
   "cell_type": "markdown",
   "id": "e09a38f1",
   "metadata": {},
   "source": [
    "##  7.1 Definisi Integrasi"
   ]
  },
  {
   "cell_type": "markdown",
   "id": "5992e1d2",
   "metadata": {},
   "source": [
    "Diferensiasi digunakan untuk menentukan gradien untuk fungs tertentu. dalam integrasi kita dapat menentukan bagaimana cara menemukan fungsi asli untuk gradien yang diberikan. ini merupakan proses integrasi yang dapat di anggap sebagai kebalikan dari proses diferensiasi. karena yang di ketahui "
   ]
  },
  {
   "cell_type": "markdown",
   "id": "3ac16cdf",
   "metadata": {},
   "source": [
    "$$\n",
    "\\frac{d  \\sin x}{dx} = \\cos x\n",
    "$$\n"
   ]
  },
  {
   "cell_type": "markdown",
   "id": "68c7549d",
   "metadata": {},
   "source": [
    "Artinya gradien dari sin adalah cos. kita dapat dengan mudah mengatakan bahwa fungsi asli adalah sin jika jika kita tahu gradiennya adalah cos. kita dapat menulis\n"
   ]
  },
  {
   "cell_type": "markdown",
   "id": "7a6d2389",
   "metadata": {},
   "source": [
    "$$ \\int \\cos x d \n",
    "x = \\sin x + c $$"
   ]
  },
  {
   "cell_type": "markdown",
   "id": "b03f74f5",
   "metadata": {},
   "source": [
    "Dimana c adalah konstanta integrasi di sini $ \\int dx $ adalah notasi standar yang menunjukkan bahwa integrasi dilakukan x dan biasanya disebut integral. fungsi cos disebut sebagai integrand. konstanta integrasi berasal dari fakta bahwa sekumpulan kurva yang di geser oleh sesuatu konstanta akan memiliki gradien yang sama di titik titik sesuai. ini berarti integrasi dapat ditentukan hingga suatu konstanta sewenang-wenang. dapat di sebut sebagai integral tak tentu."
   ]
  },
  {
   "cell_type": "code",
   "execution_count": 32,
   "id": "f43d2909",
   "metadata": {},
   "outputs": [
    {
     "data": {
      "image/png": "[encoded data removed]",
      "text/plain": [
       "<Figure size 1200x500 with 2 Axes>"
      ]
     },
     "metadata": {},
     "output_type": "display_data"
    }
   ],
   "source": [
    "import numpy as np\n",
    "import matplotlib.pyplot as plt\n",
    "\n",
    "# Buat grid x\n",
    "x = np.linspace(0, 10, 400)\n",
    "f = lambda x: np.sin(x) + 1.5  # fungsi positif\n",
    "g = lambda x: np.sin(x)        # fungsi dengan nilai positif dan negatif\n",
    "\n",
    "# Buat figure dan axes\n",
    "fig, axs = plt.subplots(1, 2, figsize=(12, 5))\n",
    "\n",
    "# Plot kiri: Area sebagai integral dari f(x)\n",
    "x_fill = np.linspace(2, 8, 300)\n",
    "axs[0].plot(x, f(x), 'k', label=r'$f(x)$')\n",
    "axs[0].fill_between(x_fill, f(x_fill), color='gray', alpha=0.5)\n",
    "axs[0].set_title(\"Fungsi Turunan dan Luas Area\", fontsize=11)\n",
    "axs[0].text(2.2, f(2.2)+0.2, r\"$F'(x) = f(x)$\", fontsize=12)\n",
    "axs[0].text(3.5, 1.0, r\"Area = $\\int_a^b f(x)dx$\", fontsize=12)\n",
    "axs[0].set_xlabel(\"x\")\n",
    "axs[0].set_ylabel(\"y\")\n",
    "axs[0].set_xticks([2, 8])\n",
    "axs[0].set_xticklabels([\"x = a\", \"x = b\"])\n",
    "axs[0].set_yticks([])\n",
    "axs[0].legend()\n",
    "axs[0].grid(True, linestyle='--', alpha=0.3)\n",
    "\n",
    "# Plot kanan: interpretasi (+) dan (–)\n",
    "axs[1].plot(x, g(x), 'k')\n",
    "axs[1].axhline(0, color='black')\n",
    "axs[1].fill_between(x, g(x), where=(g(x) >= 0), color='gray', alpha=0.5)\n",
    "axs[1].fill_between(x, g(x), where=(g(x) <= 0), color='gray', alpha=0.5)\n",
    "axs[1].text(1.5, 0.7, \"+\", fontsize=16)\n",
    "axs[1].text(4.5, -0.9, \"–\", fontsize=16)\n",
    "axs[1].text(8.5, 0.5, \"+\", fontsize=16)\n",
    "axs[1].set_title(\"Interpretasi Geometris Integral\", fontsize=11)\n",
    "axs[1].set_xlabel(\"x\")\n",
    "axs[1].set_ylabel(\"y\")\n",
    "axs[1].grid(True, linestyle='--', alpha=0.3)\n",
    "\n",
    "# Judul keseluruhan\n",
    "plt.suptitle(\"Gambar 7.1: Integrasi dan Interpretasi Geometris\", fontsize=13)\n",
    "plt.tight_layout()\n",
    "plt.subplots_adjust(top=0.85)\n",
    "plt.show()\n"
   ]
  },
  {
   "cell_type": "markdown",
   "id": "a3bc603b",
   "metadata": {},
   "source": [
    "integrasi lebih rumit daripada diferensiasi secara umum. bahkan ketika turunan dari fungsi. sebagai contoh bahwa $(x^{n+1})' = (n+1)x^n \\quad \\text{atau} \\quad \\left(\\frac{1}{n+1}x^{n+1}\\right)' = x^n \\quad \\text{untuk}$ bilangan bulat manapun, dapat di tulis \n"
   ]
  },
  {
   "cell_type": "markdown",
   "id": "425e3760",
   "metadata": {},
   "source": [
    "$$ \\int x^n dx =  \\frac{1}{n+1}x^{n+1} + C. \n",
    "$$\n"
   ]
  },
  {
   "cell_type": "markdown",
   "id": "10ea91a6",
   "metadata": {},
   "source": [
    "Namun, ketika n = -1 karena $\\frac{1}{n+1}x^{n+1}$ akan menjadi 1/0 sebenarnya integral di atas berlaku untuk setiap n, kecuali n = -1. ketika n = -1, maka menggunakan "
   ]
  },
  {
   "cell_type": "markdown",
   "id": "0afa1bba",
   "metadata": {},
   "source": [
    "$$ \\int \\frac 1 x  dx = ln x + c $$"
   ]
  },
  {
   "cell_type": "markdown",
   "id": "1d75b9bb",
   "metadata": {},
   "source": [
    "jika diketahui bahwa gradien dari fungsi F(x) adalah f(x) atau F'(x) = f(x) mungkin akan berguna untuk menyatakan dimana integrasi mulai dan berakhir, sehingga dapat ditulis "
   ]
  },
  {
   "cell_type": "markdown",
   "id": "658f4cc5",
   "metadata": {},
   "source": [
    "$$\n",
    "\\int_a^b f(x)\\, dx = \\left[ F(x) \\right]_a^b = F(b) - F(a). \n",
    "$$\n"
   ]
  },
  {
   "cell_type": "markdown",
   "id": "67176629",
   "metadata": {},
   "source": [
    "dari persamaan di atas a disebut batas bawah integrasi sedangkan b adalah batas atas integrasi. dalam hal ini, konstanta integrasi telah hilang atau hilang karena integral dapat ditentukan dengan akurat. dari persamaan di atas jika batas batas integral, kita memiliki"
   ]
  },
  {
   "cell_type": "code",
   "execution_count": 33,
   "id": "18904975",
   "metadata": {},
   "outputs": [
    {
     "data": {
      "image/png": "[encoded data removed]",
      "text/plain": [
       "<Figure size 1200x400 with 2 Axes>"
      ]
     },
     "metadata": {},
     "output_type": "display_data"
    }
   ],
   "source": [
    "import numpy as np\n",
    "import matplotlib.pyplot as plt\n",
    "\n",
    "x = np.linspace(-2, 2, 400)\n",
    "\n",
    "# Fungsi ganjil dan genap\n",
    "f_odd = x**3 - x\n",
    "f_even = x**2\n",
    "\n",
    "fig, axs = plt.subplots(1, 2, figsize=(12, 4))\n",
    "\n",
    "# Grafik fungsi ganjil\n",
    "axs[0].plot(x, f_odd, color='black')\n",
    "axs[0].fill_between(x, f_odd, where=(x >= -2) & (x <= 0), color='gray', alpha=0.5)\n",
    "axs[0].fill_between(x, f_odd, where=(x > 0) & (x <= 2), color='gray', alpha=0.5)\n",
    "axs[0].axhline(0, color='black', linewidth=0.8)\n",
    "axs[0].axvline(0, color='black', linewidth=0.8)\n",
    "\n",
    "axs[0].text(-1.5, -4, \"–\", fontsize=14)\n",
    "axs[0].text(1.2, 4, \"+\", fontsize=14)\n",
    "axs[0].text(0.2, 6.5, r\"$f(-x) = -f(x)$\", fontsize=14)\n",
    "axs[0].set_xlim([-2.5, 2.5])\n",
    "axs[0].set_ylim([-10, 10])\n",
    "axs[0].set_xticks([-2, 0, 2])\n",
    "axs[0].set_xticklabels([r\"$-a$\", r\"$0$\", r\"$a$\"])\n",
    "axs[0].set_yticks([])\n",
    "axs[0].set_title(\"Fungsi Ganjil\")\n",
    "\n",
    "# Grafik fungsi genap\n",
    "axs[1].plot(x, f_even, color='black')\n",
    "axs[1].fill_between(x, f_even, where=(x >= -2) & (x <= 2), color='gray', alpha=0.5)\n",
    "axs[1].axhline(0, color='black', linewidth=0.8)\n",
    "axs[1].axvline(0, color='black', linewidth=0.8)\n",
    "\n",
    "axs[1].text(0.2, 3.5, r\"$f(-x) = f(x)$\", fontsize=14)\n",
    "axs[1].set_xlim([-2.5, 2.5])\n",
    "axs[1].set_ylim([0, 5])\n",
    "axs[1].set_xticks([-2, 0, 2])\n",
    "axs[1].set_xticklabels([r\"$-a$\", r\"$0$\", r\"$a$\"])\n",
    "axs[1].set_yticks([])\n",
    "axs[1].set_title(\"Fungsi Genap\")\n",
    "\n",
    "# Label sumbu\n",
    "axs[0].annotate('y', xy=(0, 9), xytext=(0.1, 9), fontsize=12)\n",
    "axs[0].annotate('x', xy=(2.4, 0), xytext=(2.4, 0.5), fontsize=12)\n",
    "axs[1].annotate('y', xy=(0, 4.5), xytext=(0.1, 4.5), fontsize=12)\n",
    "axs[1].annotate('x', xy=(2.4, 0), xytext=(2.4, 0.5), fontsize=12)\n",
    "\n",
    "plt.suptitle(\"Gambar 7.2: Integral fungsi ganjil dan genap\", fontsize=16)\n",
    "plt.tight_layout()\n",
    "plt.show()\n"
   ]
  },
  {
   "cell_type": "markdown",
   "id": "5502ce89",
   "metadata": {},
   "source": [
    "selain itu, karena diferensiasi bersifat linier, yaitu $[\\alpha f(x)+ \\beta g(x)]'= \\alpha f'(x) + \\beta g'(x)$ dimana $\\alpha$ dan $\\beta$ merupakan dua konstanta rill. sehingga, "
   ]
  },
  {
   "cell_type": "markdown",
   "id": "316e0c3c",
   "metadata": {},
   "source": [
    "$$\\int_a^b [\\alpha f(x) + \\beta g(x)] dx = \\alpha \\int_a^b f(x) dx + \\beta \\int_a^b g(x) dx.$$ "
   ]
  },
  {
   "cell_type": "markdown",
   "id": "2073bd05",
   "metadata": {},
   "source": [
    "juga jika a $\\leq$ c $\\leq$ b, kita memiliki"
   ]
  },
  {
   "cell_type": "markdown",
   "id": "feea9fac",
   "metadata": {},
   "source": [
    "$$ \\int_a^b f(x) dx = \\int_a^c f(x) dx + \\int_c^d f(x) dx"
   ]
  },
  {
   "cell_type": "markdown",
   "id": "4b5c70bb",
   "metadata": {},
   "source": [
    "ini mungkin menjadi berguna saat berurusan dengan integral tertentu, terutama jika tidak ingin area (positif dan negatif) hanya dijumlahkan bersama\n",
    "\n",
    "dalam kasus ganjil dimana fungsi f(-x) = - f(x), sehingga "
   ]
  },
  {
   "cell_type": "markdown",
   "id": "267bc86f",
   "metadata": {},
   "source": [
    "$$\n",
    "\\int_{-a}^{a} f(x)\\,dx = \\int_{-a}^{0} f(x)\\,dx + \\int_{0}^{a} f(x)\\,dx \n",
    "= -\\int_{0}^{-a} f(x)\\,dx + \\int_{0}^{a} f(x)\\,dx\n",
    "$$\n"
   ]
  },
  {
   "cell_type": "markdown",
   "id": "b3c0e74a",
   "metadata": {},
   "source": [
    "$$= \\int_{0}^{a} f(-x) dx + \\int_{0}^{a} f(x) dx = \\int_{0}^{a} [-f(x) + f(x)] dx = 0$$"
   ]
  },
  {
   "cell_type": "markdown",
   "id": "e8aff6fd",
   "metadata": {},
   "source": [
    "demikian pula untuk fungsi genap f(-x) = f(x) area untuk kedua x > 0 dan x < 0 adalah sama sehingga \n",
    "\n",
    "$$\\int_{a}^{a} f(x) dx = 2 \\int_{0}^{a} f(x) dx"
   ]
  },
  {
   "cell_type": "markdown",
   "id": "4f43e8de",
   "metadata": {},
   "source": [
    "## 7.2 Integrasi dengan bagian "
   ]
  },
  {
   "cell_type": "markdown",
   "id": "4c9db8f8",
   "metadata": {},
   "source": [
    "dalam suatu diferensiasi kita dapat dengan mudah menemukan gradien dari x sin x jika kita mengetahui suatu turunan dari x dan sin x dengan menggunakan aturan perkalian. sedangkan dalam integral kita dapat menemukan suatu integral dari x dan sin x . berikut aturannnya "
   ]
  },
  {
   "cell_type": "markdown",
   "id": "aed2510f",
   "metadata": {},
   "source": [
    "$$\n",
    "\\frac{d(uv)}{dx} = u \\frac{dv}{dx} + v \\frac{du}{dx}, \n",
    "$$"
   ]
  },
  {
   "cell_type": "markdown",
   "id": "be8a0a60",
   "metadata": {},
   "source": [
    "mengintegrasikan nya terhadap x, sehingga "
   ]
  },
  {
   "cell_type": "markdown",
   "id": "10d5bef1",
   "metadata": {},
   "source": [
    "$$\n",
    "uv = \\int u \\frac{dv}{dx} \\, dx + \\int v \\frac{du}{dx} \\, dx. \n",
    "$$"
   ]
  },
  {
   "cell_type": "markdown",
   "id": "b51f15b1",
   "metadata": {},
   "source": [
    "dengan mengatur ulangnya kembali, sehingga di dapatkan "
   ]
  },
  {
   "cell_type": "markdown",
   "id": "ff99bd91",
   "metadata": {},
   "source": [
    "$$\n",
    "\\int u \\frac{dv}{dx} \\, dx = uv - \\int v \\frac{du}{dx} \\, dx. \n",
    "$$"
   ]
  },
  {
   "cell_type": "markdown",
   "id": "4a1a90b0",
   "metadata": {},
   "source": [
    "rumus tersebut merupakan integral parsial, dalam hal tersebut terdapat konstanta untuk integrasi u dan v, tetapi seperti yang diketahui terdapat integral tak tentu, kita hanya cukup menghilangkannya untuk menuliskannya dalam rumus tetapi harus diletkkan di akhir. "
   ]
  },
  {
   "cell_type": "markdown",
   "id": "4dbca688",
   "metadata": {},
   "source": [
    "ketika menerapkan integrasi per bagian, mungkin kita dapat melihat perspektif yang brbeda. misalnya, kita mencoba mencari integral. \n",
    "\n",
    "$$ I = \\int e^x sin x dx "
   ]
  },
  {
   "cell_type": "markdown",
   "id": "6cfa45de",
   "metadata": {},
   "source": [
    "jika kitamenggunakan u = ex dan dv/dx = e x dan v = -cos x. dengan menggunakan integrasi perbagian kita memperoleh \n",
    "\n",
    "$$ I = \\int e^x sin x dx = e^x (- cos x) - \\int (- cos x) \\frac{du}{dx} \\, dx. $$"
   ]
  },
  {
   "cell_type": "markdown",
   "id": "ad0d8eba",
   "metadata": {},
   "source": [
    "$$= - cos xe^x + \\int e^x cos x dx$$"
   ]
  },
  {
   "cell_type": "markdown",
   "id": "5be2f93b",
   "metadata": {},
   "source": [
    "tampaknya tidak membuahkan hasil, karena hanya mentransfer R x sin xdx ke R x cos xdx, yang bukan merupakan perbaikan. \n",
    "Dalam kasus ini, kita harus berhenti sejenak dan berpikir, apa yang terjadi jika kita menggunakan integrasi per bagian lagi untuk R x cos xdx? Kita misalkan u = e x dan dv/dx = cos x, \n",
    "yang menghasilkan du/dx = e x dan v = sin x, dan kita memiliki"
   ]
  },
  {
   "cell_type": "markdown",
   "id": "62535cfc",
   "metadata": {},
   "source": [
    "$$ \\int e^x cos x dx = e^x sin x - \\int sin x \\frac{du}{dx} \\, dx = e^sin x - \\int e^sin x dx"
   ]
  },
  {
   "cell_type": "markdown",
   "id": "f0eace28",
   "metadata": {},
   "source": [
    "lalu kita kembali ke integral awal bagaimana jika kita gabungkan dua persamaan di atas, sehingga"
   ]
  },
  {
   "cell_type": "markdown",
   "id": "e4a0da1b",
   "metadata": {},
   "source": [
    "\n",
    "$$I = \\int e^x sin x dx = -e^x cos x - \\int e^x cos x dx$$"
   ]
  },
  {
   "cell_type": "markdown",
   "id": "5cc777ed",
   "metadata": {},
   "source": [
    "$$= -e^x cos x + e^x sin x - \\int e^x sin x = e^x (sin x - cos x) - I$$"
   ]
  },
  {
   "cell_type": "markdown",
   "id": "f863842e",
   "metadata": {},
   "source": [
    "kita ingin mencari I sehingga kita dapat menyelesaikan persamaan di atas dengan penataan ulang sederhana \n",
    "$$2I = e^x(sin x - cos x)$$\n",
    "atau, \n",
    "$$I = \\frac{1}{2} e^x (sin x - cos x) + c$$"
   ]
  },
  {
   "cell_type": "markdown",
   "id": "015232f0",
   "metadata": {},
   "source": [
    "sehingga kita mendapatkann integralnya,\n",
    "$$I = \\int e^x sin x dx = \\frac {1}{2} e^x (sin x- cos x ) + c$$"
   ]
  },
  {
   "cell_type": "markdown",
   "id": "f15696e8",
   "metadata": {},
   "source": [
    "## 7.3 Integrasi dengan Subtitusi"
   ]
  },
  {
   "cell_type": "markdown",
   "id": "994e2db7",
   "metadata": {},
   "source": [
    "terkadang, tidak mudah untuk melakukan integrasi secara langsung. namun, terkadang akan menjadi lebih mudah jika menggunakan perubahan variabel atau integrasi melalui subtitusi.\n",
    "$$I = \\int f(x) dx$$"
   ]
  },
  {
   "cell_type": "markdown",
   "id": "0ac0da99",
   "metadata": {},
   "source": [
    "kita dapat mengubah variabel x ke variabel u = g(x) dimana g(x) adalah fungsi dari x. seperti berikut\n",
    "$$ \\frac{du}{dx} = g'(x)  \n",
    "\n",
    "$$ du = g'(x) dx ,      \n",
    "\n",
    "\n",
    "atau"
   ]
  },
  {
   "cell_type": "markdown",
   "id": "64193c26",
   "metadata": {},
   "source": [
    "$$ du = g'(x) dx,$$\n",
    "\n",
    "\n",
    "$$dx = \\frac{1}{g'(x)}\\,du $$"
   ]
  },
  {
   "cell_type": "markdown",
   "id": "670acb28",
   "metadata": {},
   "source": [
    "ini berarti bahwa "
   ]
  },
  {
   "cell_type": "markdown",
   "id": "d1fba05a",
   "metadata": {},
   "source": [
    "$$I = \\int f(x) dx = \\int f[g^-1(u)] \\frac{1}{g,} du,$$"
   ]
  },
  {
   "cell_type": "markdown",
   "id": "da64fe2b",
   "metadata": {},
   "source": [
    "dimana biasanya tidak perlu menghitung $g^-1$ karena relatif jelas. sebagai contoh untuk melakukan integrasi \n",
    " "
   ]
  },
  {
   "cell_type": "markdown",
   "id": "d5f0120c",
   "metadata": {},
   "source": [
    " $$  I = \\displaystyle \\int x\\, e^{x^2 + 5},dx $$"
   ]
  },
  {
   "cell_type": "markdown",
   "id": "4f1bdfe9",
   "metadata": {},
   "source": [
    "diberikan $ dx = \\frac{1}{2x} du$ sehingga \n",
    "$$ I =  \\displaystyle \\int x\\, e^{x^2 + 5} dx = \\int xe^u \\frac{1}{2x} du $$\n",
    "$$ = \\frac{1}{2} \\int e^u du = \\frac{1}{2} e^u + A = e^{x^2 + 5} + A,\n"
   ]
  },
  {
   "cell_type": "markdown",
   "id": "889ea68a",
   "metadata": {},
   "source": [
    "dimana A merupakan bilangan konstan dari integrasi. sehingga di substitusikan $u = x^2 + 5$"
   ]
  },
  {
   "cell_type": "markdown",
   "id": "9e808e46",
   "metadata": {},
   "source": [
    "## Contoh soal\n"
   ]
  },
  {
   "cell_type": "markdown",
   "id": "9fb7b5c9",
   "metadata": {},
   "source": [
    "1. $ \\displaystyle \\int x\\, e^{x^2} dx$"
   ]
  },
  {
   "cell_type": "code",
   "execution_count": 34,
   "id": "a3e9d024",
   "metadata": {},
   "outputs": [
    {
     "name": "stdout",
     "output_type": "stream",
     "text": [
      "Integral ∫ x e^(2x) dx = (2*x - 1)*exp(2*x)/4\n"
     ]
    }
   ],
   "source": [
    "import sympy as sp\n",
    "\n",
    "x = sp.symbols('x')\n",
    "integral_1 = sp.integrate(x * sp.exp(2*x), x)\n",
    "\n",
    "print(\"Integral ∫ x e^(2x) dx =\", integral_1)\n"
   ]
  },
  {
   "cell_type": "code",
   "execution_count": 35,
   "id": "f4b6142b",
   "metadata": {},
   "outputs": [
    {
     "name": "stdout",
     "output_type": "stream",
     "text": [
      "Integral ∫ x e^(2x) dx = (2*x - 1)*exp(2*x)/4\n"
     ]
    }
   ],
   "source": [
    "# Soal 1: Integral x * e^(2x)\n",
    "integral_1 = sp.integrate(x * sp.exp(2*x), x)\n",
    "\n",
    "# Tampilkan hasil\n",
    "print(\"Integral ∫ x e^(2x) dx =\", integral_1)"
   ]
  },
  {
   "cell_type": "markdown",
   "id": "8bed724a",
   "metadata": {},
   "source": [
    " 2. $ 2 \\int \\surd x^3 dx$"
   ]
  },
  {
   "cell_type": "code",
   "execution_count": 36,
   "id": "da25cb05",
   "metadata": {},
   "outputs": [
    {
     "name": "stdout",
     "output_type": "stream",
     "text": [
      "       ____\n",
      "      ╱  3 \n",
      "4⋅x⋅╲╱  x  \n",
      "───────────\n",
      "     5     \n"
     ]
    }
   ],
   "source": [
    "import sympy as sp\n",
    "\n",
    "x = sp.Symbol('x')\n",
    "f = 2 * sp.sqrt(x**3)\n",
    "integral_result = sp.integrate(f, x)\n",
    "sp.pprint(integral_result, use_unicode=True)"
   ]
  },
  {
   "cell_type": "markdown",
   "id": "1ee89b7e",
   "metadata": {},
   "source": [
    "3. $ \\int 3 \\cos 2x dx$"
   ]
  },
  {
   "cell_type": "code",
   "execution_count": 37,
   "id": "a630db07",
   "metadata": {},
   "outputs": [
    {
     "name": "stdout",
     "output_type": "stream",
     "text": [
      "3⋅sin(2⋅x)\n",
      "──────────\n",
      "    2     \n"
     ]
    }
   ],
   "source": [
    "import sympy as sp\n",
    "\n",
    "x = sp.Symbol ('x')\n",
    "f =  (3* sp.cos (2*x))\n",
    "integral_result = sp.integrate(f, x)\n",
    "sp.pprint (integral_result)"
   ]
  },
  {
   "cell_type": "markdown",
   "id": "75f27637",
   "metadata": {},
   "source": [
    "4. $\\int \\frac{2}{3x} dx$"
   ]
  },
  {
   "cell_type": "code",
   "execution_count": 38,
   "id": "2287a0b4",
   "metadata": {},
   "outputs": [
    {
     "name": "stdout",
     "output_type": "stream",
     "text": [
      "0.666666666666667⋅log(│x│)\n"
     ]
    }
   ],
   "source": [
    "import sympy as sp\n",
    "\n",
    "# Mendefinisikan variabel x\n",
    "x = sp.Symbol('x')\n",
    "\n",
    "# Fungsi yang akan diintegralkan\n",
    "f = 2 / (3 * x)\n",
    "\n",
    "# Menghitung integral tak tentu\n",
    "integral_result = sp.integrate(f, x)\n",
    "\n",
    "# Menampilkan hasil dengan menggunakan ln(x)\n",
    "integral_result_ln = (2/3) * sp.ln(abs(x))  # Menggunakan ln(x)\n",
    "\n",
    "# Menampilkan hasil\n",
    "sp.pprint(integral_result_ln, use_unicode=True)"
   ]
  },
  {
   "cell_type": "markdown",
   "id": "bc2a0649",
   "metadata": {},
   "source": [
    "5. $ \\int_1^2 3x^2 e \\frac{x}{2} dx$"
   ]
  },
  {
   "cell_type": "code",
   "execution_count": 39,
   "id": "eaa1a131",
   "metadata": {},
   "outputs": [
    {
     "name": "stdout",
     "output_type": "stream",
     "text": [
      "Nomor 5: 15.78\n"
     ]
    }
   ],
   "source": [
    "\n",
    "import sympy as sp \n",
    "f5 = 3*x**2 * sp.exp(x/2)\n",
    "integral5 = sp.integrate(f5, (x, 1, 2))\n",
    "print(\"Nomor 5:\", integral5.evalf(4)) # 4 significant figures\n"
   ]
  }
 ],
 "metadata": {
  "kernelspec": {
   "display_name": "Python 3",
   "language": "python",
   "name": "python3"
  },
  "language_info": {
   "codemirror_mode": {
    "name": "ipython",
    "version": 3
   },
   "file_extension": ".py",
   "mimetype": "text/x-python",
   "name": "python",
   "nbconvert_exporter": "python",
   "pygments_lexer": "ipython3",
   "version": "3.13.2"
  }
 },
 "nbformat": 4,
 "nbformat_minor": 5
}
